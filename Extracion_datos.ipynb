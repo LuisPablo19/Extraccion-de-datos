{
  "nbformat": 4,
  "nbformat_minor": 0,
  "metadata": {
    "colab": {
      "provenance": [],
      "authorship_tag": "ABX9TyOsIy9M5071URTfk5snDH05",
      "include_colab_link": true
    },
    "kernelspec": {
      "name": "python3",
      "display_name": "Python 3"
    },
    "language_info": {
      "name": "python"
    }
  },
  "cells": [
    {
      "cell_type": "markdown",
      "metadata": {
        "id": "view-in-github",
        "colab_type": "text"
      },
      "source": [
        "<a href=\"https://colab.research.google.com/github/LuisPablo19/Extraccion-de-datos/blob/main/Extracion_datos.ipynb\" target=\"_parent\"><img src=\"https://colab.research.google.com/assets/colab-badge.svg\" alt=\"Open In Colab\"/></a>"
      ]
    },
    {
      "cell_type": "markdown",
      "source": [
        "#**Extracción de datos**\n",
        "##Luis Pablo Padilla Barbosa\n",
        "##A00572040"
      ],
      "metadata": {
        "id": "sn0RlevKzrDo"
      }
    },
    {
      "cell_type": "code",
      "execution_count": 96,
      "metadata": {
        "id": "wuBFjxb1zmY_"
      },
      "outputs": [],
      "source": [
        "import pandas as pd\n",
        "import numpy as np\n",
        "import matplotlib.pyplot as plt\n",
        "import seaborn as sns\n",
        "from google.colab import files "
      ]
    },
    {
      "cell_type": "code",
      "source": [
        "from google.colab import files\n",
        "files.upload()"
      ],
      "metadata": {
        "id": "KT0p9OMK0Cd7"
      },
      "execution_count": 97,
      "outputs": []
    },
    {
      "cell_type": "code",
      "source": [
        "df= pd.read_excel(\"Detalle precios y productos fabricados 2022.xlsx\", index_col=0)\n",
        "df.head()"
      ],
      "metadata": {
        "colab": {
          "base_uri": "https://localhost:8080/",
          "height": 457
        },
        "id": "8VGJiWCZ0K85",
        "outputId": "d9b36dbe-f8a7-4794-cd44-a37adf071c5f"
      },
      "execution_count": 98,
      "outputs": [
        {
          "output_type": "execute_result",
          "data": {
            "text/plain": [
              "         FECHA_DOC            NOMBRE_VENDEDOR                NOMBRE_CLIENTE  \\\n",
              "CVE_DOC                                                                       \n",
              "F37034  2022-01-05  LETICIA RAMIREZ HERNANDEZ            PÚBLICO EN GENERAL   \n",
              "F37036  2022-01-05  LETICIA RAMIREZ HERNANDEZ  JUAN ANTONIO RESENDIZ UGALDE   \n",
              "F37041  2022-01-05   DIEGO ARMANDO LEON DURAN     ANA BARBARA CRUZ PALACIOS   \n",
              "F37042  2022-01-05   DIEGO ARMANDO LEON DURAN          OMAR RODRIGUEZ GOMEZ   \n",
              "F37043  2022-01-05  LETICIA RAMIREZ HERNANDEZ            PÚBLICO EN GENERAL   \n",
              "\n",
              "         CANT   CVE_ART                                    DESCR  \\\n",
              "CVE_DOC                                                            \n",
              "F37034      1  TUE00244  TUB COBRE 5/16\"ØX165MM CIRCULA1.5KW127V   \n",
              "F37036      1  TUA00028  TUA U\" 5/16 ØX250MM 1200W 120V TAP1\"NPT   \n",
              "F37041      7    TP0007     TERMOPAR J 3/16 Ø X 1' 1/2 EXT. 7 MT   \n",
              "F37042      1    TP0001     TERMOPAR J 3/16 Ø X 1' 1/2 EXT. 1 MT   \n",
              "F37043      2   BP00242  BAN P INOX 115MMX235MM 1000W 127V T/TOR   \n",
              "\n",
              "         PRECIO_UNITARIO  COSTO_UNITARIO  COSTO_UNITARIO_CALCULADO  \\\n",
              "CVE_DOC                                                              \n",
              "F37034            434.48           52.80                     52.80   \n",
              "F37036           1264.05          327.18                    327.18   \n",
              "F37041            551.61          177.68                    177.68   \n",
              "F37042            140.00           38.96                     38.96   \n",
              "F37043            172.41          101.71                    101.71   \n",
              "\n",
              "         SUBTOTAL_PARTIDA  COSTO_TOTAL_CALCULADO  MARGEN_UNITARIO_CALCULADO  \\\n",
              "CVE_DOC                                                                       \n",
              "F37034             434.48                  52.80                     381.68   \n",
              "F37036            1264.05                 327.18                     936.87   \n",
              "F37041            3861.29                1243.73                     373.94   \n",
              "F37042             140.00                  38.96                     101.04   \n",
              "F37043             344.83                 203.42                      70.71   \n",
              "\n",
              "         MARGEN_TOTAL_CALCULADO  \n",
              "CVE_DOC                          \n",
              "F37034                   381.68  \n",
              "F37036                   936.87  \n",
              "F37041                  2617.56  \n",
              "F37042                   101.04  \n",
              "F37043                   141.41  "
            ],
            "text/html": [
              "\n",
              "  <div id=\"df-466910ce-68d2-4eac-86b1-317919113003\">\n",
              "    <div class=\"colab-df-container\">\n",
              "      <div>\n",
              "<style scoped>\n",
              "    .dataframe tbody tr th:only-of-type {\n",
              "        vertical-align: middle;\n",
              "    }\n",
              "\n",
              "    .dataframe tbody tr th {\n",
              "        vertical-align: top;\n",
              "    }\n",
              "\n",
              "    .dataframe thead th {\n",
              "        text-align: right;\n",
              "    }\n",
              "</style>\n",
              "<table border=\"1\" class=\"dataframe\">\n",
              "  <thead>\n",
              "    <tr style=\"text-align: right;\">\n",
              "      <th></th>\n",
              "      <th>FECHA_DOC</th>\n",
              "      <th>NOMBRE_VENDEDOR</th>\n",
              "      <th>NOMBRE_CLIENTE</th>\n",
              "      <th>CANT</th>\n",
              "      <th>CVE_ART</th>\n",
              "      <th>DESCR</th>\n",
              "      <th>PRECIO_UNITARIO</th>\n",
              "      <th>COSTO_UNITARIO</th>\n",
              "      <th>COSTO_UNITARIO_CALCULADO</th>\n",
              "      <th>SUBTOTAL_PARTIDA</th>\n",
              "      <th>COSTO_TOTAL_CALCULADO</th>\n",
              "      <th>MARGEN_UNITARIO_CALCULADO</th>\n",
              "      <th>MARGEN_TOTAL_CALCULADO</th>\n",
              "    </tr>\n",
              "    <tr>\n",
              "      <th>CVE_DOC</th>\n",
              "      <th></th>\n",
              "      <th></th>\n",
              "      <th></th>\n",
              "      <th></th>\n",
              "      <th></th>\n",
              "      <th></th>\n",
              "      <th></th>\n",
              "      <th></th>\n",
              "      <th></th>\n",
              "      <th></th>\n",
              "      <th></th>\n",
              "      <th></th>\n",
              "      <th></th>\n",
              "    </tr>\n",
              "  </thead>\n",
              "  <tbody>\n",
              "    <tr>\n",
              "      <th>F37034</th>\n",
              "      <td>2022-01-05</td>\n",
              "      <td>LETICIA RAMIREZ HERNANDEZ</td>\n",
              "      <td>PÚBLICO EN GENERAL</td>\n",
              "      <td>1</td>\n",
              "      <td>TUE00244</td>\n",
              "      <td>TUB COBRE 5/16\"ØX165MM CIRCULA1.5KW127V</td>\n",
              "      <td>434.48</td>\n",
              "      <td>52.80</td>\n",
              "      <td>52.80</td>\n",
              "      <td>434.48</td>\n",
              "      <td>52.80</td>\n",
              "      <td>381.68</td>\n",
              "      <td>381.68</td>\n",
              "    </tr>\n",
              "    <tr>\n",
              "      <th>F37036</th>\n",
              "      <td>2022-01-05</td>\n",
              "      <td>LETICIA RAMIREZ HERNANDEZ</td>\n",
              "      <td>JUAN ANTONIO RESENDIZ UGALDE</td>\n",
              "      <td>1</td>\n",
              "      <td>TUA00028</td>\n",
              "      <td>TUA U\" 5/16 ØX250MM 1200W 120V TAP1\"NPT</td>\n",
              "      <td>1264.05</td>\n",
              "      <td>327.18</td>\n",
              "      <td>327.18</td>\n",
              "      <td>1264.05</td>\n",
              "      <td>327.18</td>\n",
              "      <td>936.87</td>\n",
              "      <td>936.87</td>\n",
              "    </tr>\n",
              "    <tr>\n",
              "      <th>F37041</th>\n",
              "      <td>2022-01-05</td>\n",
              "      <td>DIEGO ARMANDO LEON DURAN</td>\n",
              "      <td>ANA BARBARA CRUZ PALACIOS</td>\n",
              "      <td>7</td>\n",
              "      <td>TP0007</td>\n",
              "      <td>TERMOPAR J 3/16 Ø X 1' 1/2 EXT. 7 MT</td>\n",
              "      <td>551.61</td>\n",
              "      <td>177.68</td>\n",
              "      <td>177.68</td>\n",
              "      <td>3861.29</td>\n",
              "      <td>1243.73</td>\n",
              "      <td>373.94</td>\n",
              "      <td>2617.56</td>\n",
              "    </tr>\n",
              "    <tr>\n",
              "      <th>F37042</th>\n",
              "      <td>2022-01-05</td>\n",
              "      <td>DIEGO ARMANDO LEON DURAN</td>\n",
              "      <td>OMAR RODRIGUEZ GOMEZ</td>\n",
              "      <td>1</td>\n",
              "      <td>TP0001</td>\n",
              "      <td>TERMOPAR J 3/16 Ø X 1' 1/2 EXT. 1 MT</td>\n",
              "      <td>140.00</td>\n",
              "      <td>38.96</td>\n",
              "      <td>38.96</td>\n",
              "      <td>140.00</td>\n",
              "      <td>38.96</td>\n",
              "      <td>101.04</td>\n",
              "      <td>101.04</td>\n",
              "    </tr>\n",
              "    <tr>\n",
              "      <th>F37043</th>\n",
              "      <td>2022-01-05</td>\n",
              "      <td>LETICIA RAMIREZ HERNANDEZ</td>\n",
              "      <td>PÚBLICO EN GENERAL</td>\n",
              "      <td>2</td>\n",
              "      <td>BP00242</td>\n",
              "      <td>BAN P INOX 115MMX235MM 1000W 127V T/TOR</td>\n",
              "      <td>172.41</td>\n",
              "      <td>101.71</td>\n",
              "      <td>101.71</td>\n",
              "      <td>344.83</td>\n",
              "      <td>203.42</td>\n",
              "      <td>70.71</td>\n",
              "      <td>141.41</td>\n",
              "    </tr>\n",
              "  </tbody>\n",
              "</table>\n",
              "</div>\n",
              "      <button class=\"colab-df-convert\" onclick=\"convertToInteractive('df-466910ce-68d2-4eac-86b1-317919113003')\"\n",
              "              title=\"Convert this dataframe to an interactive table.\"\n",
              "              style=\"display:none;\">\n",
              "        \n",
              "  <svg xmlns=\"http://www.w3.org/2000/svg\" height=\"24px\"viewBox=\"0 0 24 24\"\n",
              "       width=\"24px\">\n",
              "    <path d=\"M0 0h24v24H0V0z\" fill=\"none\"/>\n",
              "    <path d=\"M18.56 5.44l.94 2.06.94-2.06 2.06-.94-2.06-.94-.94-2.06-.94 2.06-2.06.94zm-11 1L8.5 8.5l.94-2.06 2.06-.94-2.06-.94L8.5 2.5l-.94 2.06-2.06.94zm10 10l.94 2.06.94-2.06 2.06-.94-2.06-.94-.94-2.06-.94 2.06-2.06.94z\"/><path d=\"M17.41 7.96l-1.37-1.37c-.4-.4-.92-.59-1.43-.59-.52 0-1.04.2-1.43.59L10.3 9.45l-7.72 7.72c-.78.78-.78 2.05 0 2.83L4 21.41c.39.39.9.59 1.41.59.51 0 1.02-.2 1.41-.59l7.78-7.78 2.81-2.81c.8-.78.8-2.07 0-2.86zM5.41 20L4 18.59l7.72-7.72 1.47 1.35L5.41 20z\"/>\n",
              "  </svg>\n",
              "      </button>\n",
              "      \n",
              "  <style>\n",
              "    .colab-df-container {\n",
              "      display:flex;\n",
              "      flex-wrap:wrap;\n",
              "      gap: 12px;\n",
              "    }\n",
              "\n",
              "    .colab-df-convert {\n",
              "      background-color: #E8F0FE;\n",
              "      border: none;\n",
              "      border-radius: 50%;\n",
              "      cursor: pointer;\n",
              "      display: none;\n",
              "      fill: #1967D2;\n",
              "      height: 32px;\n",
              "      padding: 0 0 0 0;\n",
              "      width: 32px;\n",
              "    }\n",
              "\n",
              "    .colab-df-convert:hover {\n",
              "      background-color: #E2EBFA;\n",
              "      box-shadow: 0px 1px 2px rgba(60, 64, 67, 0.3), 0px 1px 3px 1px rgba(60, 64, 67, 0.15);\n",
              "      fill: #174EA6;\n",
              "    }\n",
              "\n",
              "    [theme=dark] .colab-df-convert {\n",
              "      background-color: #3B4455;\n",
              "      fill: #D2E3FC;\n",
              "    }\n",
              "\n",
              "    [theme=dark] .colab-df-convert:hover {\n",
              "      background-color: #434B5C;\n",
              "      box-shadow: 0px 1px 3px 1px rgba(0, 0, 0, 0.15);\n",
              "      filter: drop-shadow(0px 1px 2px rgba(0, 0, 0, 0.3));\n",
              "      fill: #FFFFFF;\n",
              "    }\n",
              "  </style>\n",
              "\n",
              "      <script>\n",
              "        const buttonEl =\n",
              "          document.querySelector('#df-466910ce-68d2-4eac-86b1-317919113003 button.colab-df-convert');\n",
              "        buttonEl.style.display =\n",
              "          google.colab.kernel.accessAllowed ? 'block' : 'none';\n",
              "\n",
              "        async function convertToInteractive(key) {\n",
              "          const element = document.querySelector('#df-466910ce-68d2-4eac-86b1-317919113003');\n",
              "          const dataTable =\n",
              "            await google.colab.kernel.invokeFunction('convertToInteractive',\n",
              "                                                     [key], {});\n",
              "          if (!dataTable) return;\n",
              "\n",
              "          const docLinkHtml = 'Like what you see? Visit the ' +\n",
              "            '<a target=\"_blank\" href=https://colab.research.google.com/notebooks/data_table.ipynb>data table notebook</a>'\n",
              "            + ' to learn more about interactive tables.';\n",
              "          element.innerHTML = '';\n",
              "          dataTable['output_type'] = 'display_data';\n",
              "          await google.colab.output.renderOutput(dataTable, element);\n",
              "          const docLink = document.createElement('div');\n",
              "          docLink.innerHTML = docLinkHtml;\n",
              "          element.appendChild(docLink);\n",
              "        }\n",
              "      </script>\n",
              "    </div>\n",
              "  </div>\n",
              "  "
            ]
          },
          "metadata": {},
          "execution_count": 98
        }
      ]
    },
    {
      "cell_type": "code",
      "source": [
        "df.info()"
      ],
      "metadata": {
        "colab": {
          "base_uri": "https://localhost:8080/"
        },
        "id": "BpHVgqT10TFi",
        "outputId": "8e99146c-91ba-44bb-82e9-dfc32917b2c5"
      },
      "execution_count": 99,
      "outputs": [
        {
          "output_type": "stream",
          "name": "stdout",
          "text": [
            "<class 'pandas.core.frame.DataFrame'>\n",
            "Index: 1426 entries, F37034 to F39838\n",
            "Data columns (total 13 columns):\n",
            " #   Column                     Non-Null Count  Dtype         \n",
            "---  ------                     --------------  -----         \n",
            " 0   FECHA_DOC                  1426 non-null   datetime64[ns]\n",
            " 1   NOMBRE_VENDEDOR            1424 non-null   object        \n",
            " 2   NOMBRE_CLIENTE             1426 non-null   object        \n",
            " 3   CANT                       1426 non-null   int64         \n",
            " 4   CVE_ART                    1426 non-null   object        \n",
            " 5   DESCR                      1426 non-null   object        \n",
            " 6   PRECIO_UNITARIO            1426 non-null   float64       \n",
            " 7   COSTO_UNITARIO             1426 non-null   float64       \n",
            " 8   COSTO_UNITARIO_CALCULADO   1426 non-null   float64       \n",
            " 9   SUBTOTAL_PARTIDA           1426 non-null   float64       \n",
            " 10  COSTO_TOTAL_CALCULADO      1426 non-null   float64       \n",
            " 11  MARGEN_UNITARIO_CALCULADO  1426 non-null   float64       \n",
            " 12  MARGEN_TOTAL_CALCULADO     1426 non-null   float64       \n",
            "dtypes: datetime64[ns](1), float64(7), int64(1), object(4)\n",
            "memory usage: 156.0+ KB\n"
          ]
        }
      ]
    },
    {
      "cell_type": "markdown",
      "source": [
        "Filtro por objeto"
      ],
      "metadata": {
        "id": "xYALA73e0uN6"
      }
    },
    {
      "cell_type": "code",
      "source": [
        "#Se filtran todas las facturas hechas a público en general\n",
        "filtro1=df[df[\"NOMBRE_CLIENTE\"] == \"PÚBLICO EN GENERAL\"]\n",
        "filtro1.to_csv(\"filtro1.csv\")\n",
        "files.download(\"filtro1.csv\")"
      ],
      "metadata": {
        "id": "c3sYnTqkCzir",
        "colab": {
          "base_uri": "https://localhost:8080/",
          "height": 17
        },
        "outputId": "86bd8820-c7ef-444d-8669-fb6098d5d578"
      },
      "execution_count": 100,
      "outputs": [
        {
          "output_type": "display_data",
          "data": {
            "text/plain": [
              "<IPython.core.display.Javascript object>"
            ],
            "application/javascript": [
              "\n",
              "    async function download(id, filename, size) {\n",
              "      if (!google.colab.kernel.accessAllowed) {\n",
              "        return;\n",
              "      }\n",
              "      const div = document.createElement('div');\n",
              "      const label = document.createElement('label');\n",
              "      label.textContent = `Downloading \"${filename}\": `;\n",
              "      div.appendChild(label);\n",
              "      const progress = document.createElement('progress');\n",
              "      progress.max = size;\n",
              "      div.appendChild(progress);\n",
              "      document.body.appendChild(div);\n",
              "\n",
              "      const buffers = [];\n",
              "      let downloaded = 0;\n",
              "\n",
              "      const channel = await google.colab.kernel.comms.open(id);\n",
              "      // Send a message to notify the kernel that we're ready.\n",
              "      channel.send({})\n",
              "\n",
              "      for await (const message of channel.messages) {\n",
              "        // Send a message to notify the kernel that we're ready.\n",
              "        channel.send({})\n",
              "        if (message.buffers) {\n",
              "          for (const buffer of message.buffers) {\n",
              "            buffers.push(buffer);\n",
              "            downloaded += buffer.byteLength;\n",
              "            progress.value = downloaded;\n",
              "          }\n",
              "        }\n",
              "      }\n",
              "      const blob = new Blob(buffers, {type: 'application/binary'});\n",
              "      const a = document.createElement('a');\n",
              "      a.href = window.URL.createObjectURL(blob);\n",
              "      a.download = filename;\n",
              "      div.appendChild(a);\n",
              "      a.click();\n",
              "      div.remove();\n",
              "    }\n",
              "  "
            ]
          },
          "metadata": {}
        },
        {
          "output_type": "display_data",
          "data": {
            "text/plain": [
              "<IPython.core.display.Javascript object>"
            ],
            "application/javascript": [
              "download(\"download_c12880a5-0706-43d2-82d0-cfb4a8b17f46\", \"filtro1.csv\", 15527)"
            ]
          },
          "metadata": {}
        }
      ]
    },
    {
      "cell_type": "markdown",
      "source": [
        "Filtro por filas"
      ],
      "metadata": {
        "id": "ZrzHGZUU0xY2"
      }
    },
    {
      "cell_type": "code",
      "source": [
        "#Se filtran las facturas a partir de la 1,400\n",
        "filtro2= df.iloc[1400:,: ]\n",
        "filtro2.to_csv(\"filtro2.csv\")\n",
        "files.download(\"filtro2.csv\")"
      ],
      "metadata": {
        "id": "qOjHHXQaDkrF",
        "colab": {
          "base_uri": "https://localhost:8080/",
          "height": 17
        },
        "outputId": "13e7de7e-7d02-43ca-9062-7a62255a3d06"
      },
      "execution_count": 101,
      "outputs": [
        {
          "output_type": "display_data",
          "data": {
            "text/plain": [
              "<IPython.core.display.Javascript object>"
            ],
            "application/javascript": [
              "\n",
              "    async function download(id, filename, size) {\n",
              "      if (!google.colab.kernel.accessAllowed) {\n",
              "        return;\n",
              "      }\n",
              "      const div = document.createElement('div');\n",
              "      const label = document.createElement('label');\n",
              "      label.textContent = `Downloading \"${filename}\": `;\n",
              "      div.appendChild(label);\n",
              "      const progress = document.createElement('progress');\n",
              "      progress.max = size;\n",
              "      div.appendChild(progress);\n",
              "      document.body.appendChild(div);\n",
              "\n",
              "      const buffers = [];\n",
              "      let downloaded = 0;\n",
              "\n",
              "      const channel = await google.colab.kernel.comms.open(id);\n",
              "      // Send a message to notify the kernel that we're ready.\n",
              "      channel.send({})\n",
              "\n",
              "      for await (const message of channel.messages) {\n",
              "        // Send a message to notify the kernel that we're ready.\n",
              "        channel.send({})\n",
              "        if (message.buffers) {\n",
              "          for (const buffer of message.buffers) {\n",
              "            buffers.push(buffer);\n",
              "            downloaded += buffer.byteLength;\n",
              "            progress.value = downloaded;\n",
              "          }\n",
              "        }\n",
              "      }\n",
              "      const blob = new Blob(buffers, {type: 'application/binary'});\n",
              "      const a = document.createElement('a');\n",
              "      a.href = window.URL.createObjectURL(blob);\n",
              "      a.download = filename;\n",
              "      div.appendChild(a);\n",
              "      a.click();\n",
              "      div.remove();\n",
              "    }\n",
              "  "
            ]
          },
          "metadata": {}
        },
        {
          "output_type": "display_data",
          "data": {
            "text/plain": [
              "<IPython.core.display.Javascript object>"
            ],
            "application/javascript": [
              "download(\"download_58079161-4958-4643-b060-62a21d1386e5\", \"filtro2.csv\", 4493)"
            ]
          },
          "metadata": {}
        }
      ]
    },
    {
      "cell_type": "markdown",
      "source": [
        "Filtro por columnas"
      ],
      "metadata": {
        "id": "idCsgBzx00Dp"
      }
    },
    {
      "cell_type": "code",
      "source": [
        "#Se filtran las columnas del vendedor junto con todas las relacionadas a precio y costo unitario\n",
        "filtro3=df.iloc[ : , [1,7,6,11]] \n",
        "filtro3.to_csv(\"filtro3.csv\")\n",
        "files.download(\"filtro3.csv\")"
      ],
      "metadata": {
        "id": "6Qp-7ZsWEJ0Q",
        "colab": {
          "base_uri": "https://localhost:8080/",
          "height": 17
        },
        "outputId": "245129da-2a4c-466e-893c-e222164822f4"
      },
      "execution_count": 102,
      "outputs": [
        {
          "output_type": "display_data",
          "data": {
            "text/plain": [
              "<IPython.core.display.Javascript object>"
            ],
            "application/javascript": [
              "\n",
              "    async function download(id, filename, size) {\n",
              "      if (!google.colab.kernel.accessAllowed) {\n",
              "        return;\n",
              "      }\n",
              "      const div = document.createElement('div');\n",
              "      const label = document.createElement('label');\n",
              "      label.textContent = `Downloading \"${filename}\": `;\n",
              "      div.appendChild(label);\n",
              "      const progress = document.createElement('progress');\n",
              "      progress.max = size;\n",
              "      div.appendChild(progress);\n",
              "      document.body.appendChild(div);\n",
              "\n",
              "      const buffers = [];\n",
              "      let downloaded = 0;\n",
              "\n",
              "      const channel = await google.colab.kernel.comms.open(id);\n",
              "      // Send a message to notify the kernel that we're ready.\n",
              "      channel.send({})\n",
              "\n",
              "      for await (const message of channel.messages) {\n",
              "        // Send a message to notify the kernel that we're ready.\n",
              "        channel.send({})\n",
              "        if (message.buffers) {\n",
              "          for (const buffer of message.buffers) {\n",
              "            buffers.push(buffer);\n",
              "            downloaded += buffer.byteLength;\n",
              "            progress.value = downloaded;\n",
              "          }\n",
              "        }\n",
              "      }\n",
              "      const blob = new Blob(buffers, {type: 'application/binary'});\n",
              "      const a = document.createElement('a');\n",
              "      a.href = window.URL.createObjectURL(blob);\n",
              "      a.download = filename;\n",
              "      div.appendChild(a);\n",
              "      a.click();\n",
              "      div.remove();\n",
              "    }\n",
              "  "
            ]
          },
          "metadata": {}
        },
        {
          "output_type": "display_data",
          "data": {
            "text/plain": [
              "<IPython.core.display.Javascript object>"
            ],
            "application/javascript": [
              "download(\"download_85e5d014-3e61-409a-873c-f30f8a5c2568\", \"filtro3.csv\", 70622)"
            ]
          },
          "metadata": {}
        }
      ]
    },
    {
      "cell_type": "markdown",
      "source": [
        "Filtro de filas vs columnas"
      ],
      "metadata": {
        "id": "SZa2GCPt0233"
      }
    },
    {
      "cell_type": "code",
      "source": [
        "#Se filtra la primer y última factura, mostrando únicamente el subtotal. \n",
        "filtro4=df.loc[[\"F37034\", \"F39838\"], [\"SUBTOTAL_PARTIDA\"]]\n",
        "filtro4.to_csv(\"filtro4.csv\")\n",
        "files.download(\"filtro4.csv\")"
      ],
      "metadata": {
        "id": "zhHdoXpbFqHe",
        "colab": {
          "base_uri": "https://localhost:8080/",
          "height": 17
        },
        "outputId": "39fbaf5b-56c3-421c-be7d-9fcdce09a410"
      },
      "execution_count": 103,
      "outputs": [
        {
          "output_type": "display_data",
          "data": {
            "text/plain": [
              "<IPython.core.display.Javascript object>"
            ],
            "application/javascript": [
              "\n",
              "    async function download(id, filename, size) {\n",
              "      if (!google.colab.kernel.accessAllowed) {\n",
              "        return;\n",
              "      }\n",
              "      const div = document.createElement('div');\n",
              "      const label = document.createElement('label');\n",
              "      label.textContent = `Downloading \"${filename}\": `;\n",
              "      div.appendChild(label);\n",
              "      const progress = document.createElement('progress');\n",
              "      progress.max = size;\n",
              "      div.appendChild(progress);\n",
              "      document.body.appendChild(div);\n",
              "\n",
              "      const buffers = [];\n",
              "      let downloaded = 0;\n",
              "\n",
              "      const channel = await google.colab.kernel.comms.open(id);\n",
              "      // Send a message to notify the kernel that we're ready.\n",
              "      channel.send({})\n",
              "\n",
              "      for await (const message of channel.messages) {\n",
              "        // Send a message to notify the kernel that we're ready.\n",
              "        channel.send({})\n",
              "        if (message.buffers) {\n",
              "          for (const buffer of message.buffers) {\n",
              "            buffers.push(buffer);\n",
              "            downloaded += buffer.byteLength;\n",
              "            progress.value = downloaded;\n",
              "          }\n",
              "        }\n",
              "      }\n",
              "      const blob = new Blob(buffers, {type: 'application/binary'});\n",
              "      const a = document.createElement('a');\n",
              "      a.href = window.URL.createObjectURL(blob);\n",
              "      a.download = filename;\n",
              "      div.appendChild(a);\n",
              "      a.click();\n",
              "      div.remove();\n",
              "    }\n",
              "  "
            ]
          },
          "metadata": {}
        },
        {
          "output_type": "display_data",
          "data": {
            "text/plain": [
              "<IPython.core.display.Javascript object>"
            ],
            "application/javascript": [
              "download(\"download_3a765cfc-d0f5-42fd-8cdb-82e1425fb21b\", \"filtro4.csv\", 54)"
            ]
          },
          "metadata": {}
        }
      ]
    },
    {
      "cell_type": "markdown",
      "source": [
        "Filtro por cabecera"
      ],
      "metadata": {
        "id": "Yo78YBeP059S"
      }
    },
    {
      "cell_type": "code",
      "source": [
        "#Se filtran los primeros 3 registros que se tienen. \n",
        "filtro5=df.head(3)\n",
        "filtro5.to_csv(\"filtro5.csv\")\n",
        "files.download(\"filtro5.csv\")"
      ],
      "metadata": {
        "id": "eOirgz50GUam",
        "colab": {
          "base_uri": "https://localhost:8080/",
          "height": 17
        },
        "outputId": "34e4559c-d25d-4836-abcf-9abc973d10c1"
      },
      "execution_count": 104,
      "outputs": [
        {
          "output_type": "display_data",
          "data": {
            "text/plain": [
              "<IPython.core.display.Javascript object>"
            ],
            "application/javascript": [
              "\n",
              "    async function download(id, filename, size) {\n",
              "      if (!google.colab.kernel.accessAllowed) {\n",
              "        return;\n",
              "      }\n",
              "      const div = document.createElement('div');\n",
              "      const label = document.createElement('label');\n",
              "      label.textContent = `Downloading \"${filename}\": `;\n",
              "      div.appendChild(label);\n",
              "      const progress = document.createElement('progress');\n",
              "      progress.max = size;\n",
              "      div.appendChild(progress);\n",
              "      document.body.appendChild(div);\n",
              "\n",
              "      const buffers = [];\n",
              "      let downloaded = 0;\n",
              "\n",
              "      const channel = await google.colab.kernel.comms.open(id);\n",
              "      // Send a message to notify the kernel that we're ready.\n",
              "      channel.send({})\n",
              "\n",
              "      for await (const message of channel.messages) {\n",
              "        // Send a message to notify the kernel that we're ready.\n",
              "        channel.send({})\n",
              "        if (message.buffers) {\n",
              "          for (const buffer of message.buffers) {\n",
              "            buffers.push(buffer);\n",
              "            downloaded += buffer.byteLength;\n",
              "            progress.value = downloaded;\n",
              "          }\n",
              "        }\n",
              "      }\n",
              "      const blob = new Blob(buffers, {type: 'application/binary'});\n",
              "      const a = document.createElement('a');\n",
              "      a.href = window.URL.createObjectURL(blob);\n",
              "      a.download = filename;\n",
              "      div.appendChild(a);\n",
              "      a.click();\n",
              "      div.remove();\n",
              "    }\n",
              "  "
            ]
          },
          "metadata": {}
        },
        {
          "output_type": "display_data",
          "data": {
            "text/plain": [
              "<IPython.core.display.Javascript object>"
            ],
            "application/javascript": [
              "download(\"download_92bb7730-765d-4c93-a1f5-f1b14e4da44d\", \"filtro5.csv\", 722)"
            ]
          },
          "metadata": {}
        }
      ]
    },
    {
      "cell_type": "markdown",
      "source": [
        "Filtro por comparación"
      ],
      "metadata": {
        "id": "oMzDB0eg09XA"
      }
    },
    {
      "cell_type": "code",
      "source": [
        "#Se filtran aquellas facturas que tengan un subtotal mayor a 50,000 pesos. \n",
        "filtro6=df[df[\"SUBTOTAL_PARTIDA\"] > 50000]\n",
        "filtro6.to_csv(\"filtro6.csv\")\n",
        "files.download(\"filtro6.csv\")"
      ],
      "metadata": {
        "id": "ipZyRSJgHPQQ",
        "colab": {
          "base_uri": "https://localhost:8080/",
          "height": 17
        },
        "outputId": "05da8020-ebcd-43ec-a210-531ace4e37d3"
      },
      "execution_count": 105,
      "outputs": [
        {
          "output_type": "display_data",
          "data": {
            "text/plain": [
              "<IPython.core.display.Javascript object>"
            ],
            "application/javascript": [
              "\n",
              "    async function download(id, filename, size) {\n",
              "      if (!google.colab.kernel.accessAllowed) {\n",
              "        return;\n",
              "      }\n",
              "      const div = document.createElement('div');\n",
              "      const label = document.createElement('label');\n",
              "      label.textContent = `Downloading \"${filename}\": `;\n",
              "      div.appendChild(label);\n",
              "      const progress = document.createElement('progress');\n",
              "      progress.max = size;\n",
              "      div.appendChild(progress);\n",
              "      document.body.appendChild(div);\n",
              "\n",
              "      const buffers = [];\n",
              "      let downloaded = 0;\n",
              "\n",
              "      const channel = await google.colab.kernel.comms.open(id);\n",
              "      // Send a message to notify the kernel that we're ready.\n",
              "      channel.send({})\n",
              "\n",
              "      for await (const message of channel.messages) {\n",
              "        // Send a message to notify the kernel that we're ready.\n",
              "        channel.send({})\n",
              "        if (message.buffers) {\n",
              "          for (const buffer of message.buffers) {\n",
              "            buffers.push(buffer);\n",
              "            downloaded += buffer.byteLength;\n",
              "            progress.value = downloaded;\n",
              "          }\n",
              "        }\n",
              "      }\n",
              "      const blob = new Blob(buffers, {type: 'application/binary'});\n",
              "      const a = document.createElement('a');\n",
              "      a.href = window.URL.createObjectURL(blob);\n",
              "      a.download = filename;\n",
              "      div.appendChild(a);\n",
              "      a.click();\n",
              "      div.remove();\n",
              "    }\n",
              "  "
            ]
          },
          "metadata": {}
        },
        {
          "output_type": "display_data",
          "data": {
            "text/plain": [
              "<IPython.core.display.Javascript object>"
            ],
            "application/javascript": [
              "download(\"download_ad5671a2-2a9d-4c4a-9c48-37e7579f1e77\", \"filtro6.csv\", 2013)"
            ]
          },
          "metadata": {}
        }
      ]
    },
    {
      "cell_type": "markdown",
      "source": [
        "Filtro Y"
      ],
      "metadata": {
        "id": "uwNoHTiO1AKM"
      }
    },
    {
      "cell_type": "code",
      "source": [
        "#Se filtran las facturas del vendedor Alfredo Canela que tengan un margen unitario menor a 50. \n",
        "filtro7=df[(df[\"MARGEN_UNITARIO_CALCULADO\"] < 50) & (df[\"NOMBRE_VENDEDOR\"] == \"ALFREDO CANELA\")]\n",
        "filtro7.to_csv(\"filtro7.csv\")\n",
        "files.download(\"filtro7.csv\")"
      ],
      "metadata": {
        "id": "rMg7Ufo8Id5y",
        "colab": {
          "base_uri": "https://localhost:8080/",
          "height": 17
        },
        "outputId": "efac899c-1816-4576-c157-928b77620715"
      },
      "execution_count": 106,
      "outputs": [
        {
          "output_type": "display_data",
          "data": {
            "text/plain": [
              "<IPython.core.display.Javascript object>"
            ],
            "application/javascript": [
              "\n",
              "    async function download(id, filename, size) {\n",
              "      if (!google.colab.kernel.accessAllowed) {\n",
              "        return;\n",
              "      }\n",
              "      const div = document.createElement('div');\n",
              "      const label = document.createElement('label');\n",
              "      label.textContent = `Downloading \"${filename}\": `;\n",
              "      div.appendChild(label);\n",
              "      const progress = document.createElement('progress');\n",
              "      progress.max = size;\n",
              "      div.appendChild(progress);\n",
              "      document.body.appendChild(div);\n",
              "\n",
              "      const buffers = [];\n",
              "      let downloaded = 0;\n",
              "\n",
              "      const channel = await google.colab.kernel.comms.open(id);\n",
              "      // Send a message to notify the kernel that we're ready.\n",
              "      channel.send({})\n",
              "\n",
              "      for await (const message of channel.messages) {\n",
              "        // Send a message to notify the kernel that we're ready.\n",
              "        channel.send({})\n",
              "        if (message.buffers) {\n",
              "          for (const buffer of message.buffers) {\n",
              "            buffers.push(buffer);\n",
              "            downloaded += buffer.byteLength;\n",
              "            progress.value = downloaded;\n",
              "          }\n",
              "        }\n",
              "      }\n",
              "      const blob = new Blob(buffers, {type: 'application/binary'});\n",
              "      const a = document.createElement('a');\n",
              "      a.href = window.URL.createObjectURL(blob);\n",
              "      a.download = filename;\n",
              "      div.appendChild(a);\n",
              "      a.click();\n",
              "      div.remove();\n",
              "    }\n",
              "  "
            ]
          },
          "metadata": {}
        },
        {
          "output_type": "display_data",
          "data": {
            "text/plain": [
              "<IPython.core.display.Javascript object>"
            ],
            "application/javascript": [
              "download(\"download_8f7abdc8-6b10-455d-be24-e2cfc3faedad\", \"filtro7.csv\", 1276)"
            ]
          },
          "metadata": {}
        }
      ]
    },
    {
      "cell_type": "markdown",
      "source": [
        "Filtro o"
      ],
      "metadata": {
        "id": "Zaf7u-r-1B7P"
      }
    },
    {
      "cell_type": "code",
      "source": [
        "#Se filtran las facturas con subtotal menor a 100 y mayor a 70,000 para ver las más grandes y más pequeñas. \n",
        "filtro8=df[(df[\"SUBTOTAL_PARTIDA\"] < 100) | (df[\"SUBTOTAL_PARTIDA\"] > 70000)]\n",
        "filtro8.to_csv(\"filtro8.csv\")\n",
        "files.download(\"filtro8.csv\")"
      ],
      "metadata": {
        "id": "s95jJgB7JVMf",
        "colab": {
          "base_uri": "https://localhost:8080/",
          "height": 17
        },
        "outputId": "da9f81c9-1d55-4a7b-f719-0004a016aba4"
      },
      "execution_count": 107,
      "outputs": [
        {
          "output_type": "display_data",
          "data": {
            "text/plain": [
              "<IPython.core.display.Javascript object>"
            ],
            "application/javascript": [
              "\n",
              "    async function download(id, filename, size) {\n",
              "      if (!google.colab.kernel.accessAllowed) {\n",
              "        return;\n",
              "      }\n",
              "      const div = document.createElement('div');\n",
              "      const label = document.createElement('label');\n",
              "      label.textContent = `Downloading \"${filename}\": `;\n",
              "      div.appendChild(label);\n",
              "      const progress = document.createElement('progress');\n",
              "      progress.max = size;\n",
              "      div.appendChild(progress);\n",
              "      document.body.appendChild(div);\n",
              "\n",
              "      const buffers = [];\n",
              "      let downloaded = 0;\n",
              "\n",
              "      const channel = await google.colab.kernel.comms.open(id);\n",
              "      // Send a message to notify the kernel that we're ready.\n",
              "      channel.send({})\n",
              "\n",
              "      for await (const message of channel.messages) {\n",
              "        // Send a message to notify the kernel that we're ready.\n",
              "        channel.send({})\n",
              "        if (message.buffers) {\n",
              "          for (const buffer of message.buffers) {\n",
              "            buffers.push(buffer);\n",
              "            downloaded += buffer.byteLength;\n",
              "            progress.value = downloaded;\n",
              "          }\n",
              "        }\n",
              "      }\n",
              "      const blob = new Blob(buffers, {type: 'application/binary'});\n",
              "      const a = document.createElement('a');\n",
              "      a.href = window.URL.createObjectURL(blob);\n",
              "      a.download = filename;\n",
              "      div.appendChild(a);\n",
              "      a.click();\n",
              "      div.remove();\n",
              "    }\n",
              "  "
            ]
          },
          "metadata": {}
        },
        {
          "output_type": "display_data",
          "data": {
            "text/plain": [
              "<IPython.core.display.Javascript object>"
            ],
            "application/javascript": [
              "download(\"download_f2c21ff2-3782-4d3a-a996-8a43ce22d513\", \"filtro8.csv\", 1943)"
            ]
          },
          "metadata": {}
        }
      ]
    },
    {
      "cell_type": "markdown",
      "source": [
        "Filtro not"
      ],
      "metadata": {
        "id": "SMwH11te1EWL"
      }
    },
    {
      "cell_type": "code",
      "source": [
        "#Se filtran las facturas del vendedor Alfredo Canela que no sean positivas\n",
        "filtro9=df[(df[\"NOMBRE_VENDEDOR\"] == \"ALFREDO CANELA\") & ~(df[\"MARGEN_TOTAL_CALCULADO\"] >= 0)]\n",
        "filtro9.to_csv(\"filtro9.csv\")\n",
        "files.download(\"filtro9.csv\")"
      ],
      "metadata": {
        "id": "p7gRP0IbJhv4",
        "colab": {
          "base_uri": "https://localhost:8080/",
          "height": 17
        },
        "outputId": "7448f75d-2aad-42a7-8e73-0d34f78ac271"
      },
      "execution_count": 108,
      "outputs": [
        {
          "output_type": "display_data",
          "data": {
            "text/plain": [
              "<IPython.core.display.Javascript object>"
            ],
            "application/javascript": [
              "\n",
              "    async function download(id, filename, size) {\n",
              "      if (!google.colab.kernel.accessAllowed) {\n",
              "        return;\n",
              "      }\n",
              "      const div = document.createElement('div');\n",
              "      const label = document.createElement('label');\n",
              "      label.textContent = `Downloading \"${filename}\": `;\n",
              "      div.appendChild(label);\n",
              "      const progress = document.createElement('progress');\n",
              "      progress.max = size;\n",
              "      div.appendChild(progress);\n",
              "      document.body.appendChild(div);\n",
              "\n",
              "      const buffers = [];\n",
              "      let downloaded = 0;\n",
              "\n",
              "      const channel = await google.colab.kernel.comms.open(id);\n",
              "      // Send a message to notify the kernel that we're ready.\n",
              "      channel.send({})\n",
              "\n",
              "      for await (const message of channel.messages) {\n",
              "        // Send a message to notify the kernel that we're ready.\n",
              "        channel.send({})\n",
              "        if (message.buffers) {\n",
              "          for (const buffer of message.buffers) {\n",
              "            buffers.push(buffer);\n",
              "            downloaded += buffer.byteLength;\n",
              "            progress.value = downloaded;\n",
              "          }\n",
              "        }\n",
              "      }\n",
              "      const blob = new Blob(buffers, {type: 'application/binary'});\n",
              "      const a = document.createElement('a');\n",
              "      a.href = window.URL.createObjectURL(blob);\n",
              "      a.download = filename;\n",
              "      div.appendChild(a);\n",
              "      a.click();\n",
              "      div.remove();\n",
              "    }\n",
              "  "
            ]
          },
          "metadata": {}
        },
        {
          "output_type": "display_data",
          "data": {
            "text/plain": [
              "<IPython.core.display.Javascript object>"
            ],
            "application/javascript": [
              "download(\"download_744d53b4-610a-46e9-bdeb-4fcecf201dcc\", \"filtro9.csv\", 687)"
            ]
          },
          "metadata": {}
        }
      ]
    }
  ]
}