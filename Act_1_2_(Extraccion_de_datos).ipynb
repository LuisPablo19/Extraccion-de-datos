{
  "nbformat": 4,
  "nbformat_minor": 0,
  "metadata": {
    "colab": {
      "provenance": [],
      "authorship_tag": "ABX9TyN2i58V29PeyrKU5Qb4JkOz",
      "include_colab_link": true
    },
    "kernelspec": {
      "name": "python3",
      "display_name": "Python 3"
    },
    "language_info": {
      "name": "python"
    }
  },
  "cells": [
    {
      "cell_type": "markdown",
      "metadata": {
        "id": "view-in-github",
        "colab_type": "text"
      },
      "source": [
        "<a href=\"https://colab.research.google.com/github/LuisPablo19/Extraccion-de-datos/blob/main/Act_1_2_(Extraccion_de_datos).ipynb\" target=\"_parent\"><img src=\"https://colab.research.google.com/assets/colab-badge.svg\" alt=\"Open In Colab\"/></a>"
      ]
    },
    {
      "cell_type": "markdown",
      "source": [
        "#**Actividad 1.2 Extracción de datos**\n",
        "##Luis Pablo Padilla Barbosa\n",
        "##A00572040"
      ],
      "metadata": {
        "id": "mE8KPPuaHxwj"
      }
    },
    {
      "cell_type": "code",
      "execution_count": 58,
      "metadata": {
        "id": "wuBFjxb1zmY_"
      },
      "outputs": [],
      "source": [
        "import pandas as pd\n",
        "import numpy as np\n",
        "import matplotlib.pyplot as plt\n",
        "import seaborn as sns\n",
        "from google.colab import files "
      ]
    },
    {
      "cell_type": "code",
      "source": [
        "from google.colab import files\n",
        "files.upload()"
      ],
      "metadata": {
        "id": "KT0p9OMK0Cd7"
      },
      "execution_count": null,
      "outputs": []
    },
    {
      "cell_type": "code",
      "source": [
        "df= pd.read_excel(\"Datos de Facturación.xlsx\")\n",
        "df.head()"
      ],
      "metadata": {
        "colab": {
          "base_uri": "https://localhost:8080/",
          "height": 357
        },
        "id": "8VGJiWCZ0K85",
        "outputId": "cf09884a-5433-449c-d567-ec64e1257969"
      },
      "execution_count": 60,
      "outputs": [
        {
          "output_type": "execute_result",
          "data": {
            "text/plain": [
              "  CVE_DOC  CVE_CLPV STATUS  CVE_VEND           FECHAELAB  FECHA_DOC  \\\n",
              "0  F29414      2465      C       1.0 2019-09-03 08:58:42 2019-09-03   \n",
              "1  F29415      3926      C       1.0 2019-09-03 09:55:14 2019-09-03   \n",
              "2  F29416      3926      C       1.0 2019-09-03 13:25:33 2019-09-03   \n",
              "3  F29417      3926      C       1.0 2019-09-03 13:33:23 2019-09-03   \n",
              "4  F29418      6813      C       2.0 2019-09-03 14:23:45 2019-09-03   \n",
              "\n",
              "             FECHA_ENT  FECHA_VEN FECHA_CANCELA  CAN_TOT  DES_TOT  DES_FIN  \n",
              "0  2019-09-03 00:00:00 2019-09-18    2019-09-04  3980.00      0.0        0  \n",
              "1  2019-09-03 00:00:00 2019-10-03    2019-09-03  1550.00      0.0        0  \n",
              "2  2019-09-03 00:00:00 2019-10-03    2019-09-03  1550.00      0.0        0  \n",
              "3  2019-09-03 00:00:00 2019-10-03    2019-09-17  1550.00      0.0        0  \n",
              "4  2019-09-03 00:00:00 2019-09-03    2019-09-10  2435.44      0.0        0  "
            ],
            "text/html": [
              "\n",
              "  <div id=\"df-ead184ed-e7c3-49b3-97a0-e5b4083389c0\">\n",
              "    <div class=\"colab-df-container\">\n",
              "      <div>\n",
              "<style scoped>\n",
              "    .dataframe tbody tr th:only-of-type {\n",
              "        vertical-align: middle;\n",
              "    }\n",
              "\n",
              "    .dataframe tbody tr th {\n",
              "        vertical-align: top;\n",
              "    }\n",
              "\n",
              "    .dataframe thead th {\n",
              "        text-align: right;\n",
              "    }\n",
              "</style>\n",
              "<table border=\"1\" class=\"dataframe\">\n",
              "  <thead>\n",
              "    <tr style=\"text-align: right;\">\n",
              "      <th></th>\n",
              "      <th>CVE_DOC</th>\n",
              "      <th>CVE_CLPV</th>\n",
              "      <th>STATUS</th>\n",
              "      <th>CVE_VEND</th>\n",
              "      <th>FECHAELAB</th>\n",
              "      <th>FECHA_DOC</th>\n",
              "      <th>FECHA_ENT</th>\n",
              "      <th>FECHA_VEN</th>\n",
              "      <th>FECHA_CANCELA</th>\n",
              "      <th>CAN_TOT</th>\n",
              "      <th>DES_TOT</th>\n",
              "      <th>DES_FIN</th>\n",
              "    </tr>\n",
              "  </thead>\n",
              "  <tbody>\n",
              "    <tr>\n",
              "      <th>0</th>\n",
              "      <td>F29414</td>\n",
              "      <td>2465</td>\n",
              "      <td>C</td>\n",
              "      <td>1.0</td>\n",
              "      <td>2019-09-03 08:58:42</td>\n",
              "      <td>2019-09-03</td>\n",
              "      <td>2019-09-03 00:00:00</td>\n",
              "      <td>2019-09-18</td>\n",
              "      <td>2019-09-04</td>\n",
              "      <td>3980.00</td>\n",
              "      <td>0.0</td>\n",
              "      <td>0</td>\n",
              "    </tr>\n",
              "    <tr>\n",
              "      <th>1</th>\n",
              "      <td>F29415</td>\n",
              "      <td>3926</td>\n",
              "      <td>C</td>\n",
              "      <td>1.0</td>\n",
              "      <td>2019-09-03 09:55:14</td>\n",
              "      <td>2019-09-03</td>\n",
              "      <td>2019-09-03 00:00:00</td>\n",
              "      <td>2019-10-03</td>\n",
              "      <td>2019-09-03</td>\n",
              "      <td>1550.00</td>\n",
              "      <td>0.0</td>\n",
              "      <td>0</td>\n",
              "    </tr>\n",
              "    <tr>\n",
              "      <th>2</th>\n",
              "      <td>F29416</td>\n",
              "      <td>3926</td>\n",
              "      <td>C</td>\n",
              "      <td>1.0</td>\n",
              "      <td>2019-09-03 13:25:33</td>\n",
              "      <td>2019-09-03</td>\n",
              "      <td>2019-09-03 00:00:00</td>\n",
              "      <td>2019-10-03</td>\n",
              "      <td>2019-09-03</td>\n",
              "      <td>1550.00</td>\n",
              "      <td>0.0</td>\n",
              "      <td>0</td>\n",
              "    </tr>\n",
              "    <tr>\n",
              "      <th>3</th>\n",
              "      <td>F29417</td>\n",
              "      <td>3926</td>\n",
              "      <td>C</td>\n",
              "      <td>1.0</td>\n",
              "      <td>2019-09-03 13:33:23</td>\n",
              "      <td>2019-09-03</td>\n",
              "      <td>2019-09-03 00:00:00</td>\n",
              "      <td>2019-10-03</td>\n",
              "      <td>2019-09-17</td>\n",
              "      <td>1550.00</td>\n",
              "      <td>0.0</td>\n",
              "      <td>0</td>\n",
              "    </tr>\n",
              "    <tr>\n",
              "      <th>4</th>\n",
              "      <td>F29418</td>\n",
              "      <td>6813</td>\n",
              "      <td>C</td>\n",
              "      <td>2.0</td>\n",
              "      <td>2019-09-03 14:23:45</td>\n",
              "      <td>2019-09-03</td>\n",
              "      <td>2019-09-03 00:00:00</td>\n",
              "      <td>2019-09-03</td>\n",
              "      <td>2019-09-10</td>\n",
              "      <td>2435.44</td>\n",
              "      <td>0.0</td>\n",
              "      <td>0</td>\n",
              "    </tr>\n",
              "  </tbody>\n",
              "</table>\n",
              "</div>\n",
              "      <button class=\"colab-df-convert\" onclick=\"convertToInteractive('df-ead184ed-e7c3-49b3-97a0-e5b4083389c0')\"\n",
              "              title=\"Convert this dataframe to an interactive table.\"\n",
              "              style=\"display:none;\">\n",
              "        \n",
              "  <svg xmlns=\"http://www.w3.org/2000/svg\" height=\"24px\"viewBox=\"0 0 24 24\"\n",
              "       width=\"24px\">\n",
              "    <path d=\"M0 0h24v24H0V0z\" fill=\"none\"/>\n",
              "    <path d=\"M18.56 5.44l.94 2.06.94-2.06 2.06-.94-2.06-.94-.94-2.06-.94 2.06-2.06.94zm-11 1L8.5 8.5l.94-2.06 2.06-.94-2.06-.94L8.5 2.5l-.94 2.06-2.06.94zm10 10l.94 2.06.94-2.06 2.06-.94-2.06-.94-.94-2.06-.94 2.06-2.06.94z\"/><path d=\"M17.41 7.96l-1.37-1.37c-.4-.4-.92-.59-1.43-.59-.52 0-1.04.2-1.43.59L10.3 9.45l-7.72 7.72c-.78.78-.78 2.05 0 2.83L4 21.41c.39.39.9.59 1.41.59.51 0 1.02-.2 1.41-.59l7.78-7.78 2.81-2.81c.8-.78.8-2.07 0-2.86zM5.41 20L4 18.59l7.72-7.72 1.47 1.35L5.41 20z\"/>\n",
              "  </svg>\n",
              "      </button>\n",
              "      \n",
              "  <style>\n",
              "    .colab-df-container {\n",
              "      display:flex;\n",
              "      flex-wrap:wrap;\n",
              "      gap: 12px;\n",
              "    }\n",
              "\n",
              "    .colab-df-convert {\n",
              "      background-color: #E8F0FE;\n",
              "      border: none;\n",
              "      border-radius: 50%;\n",
              "      cursor: pointer;\n",
              "      display: none;\n",
              "      fill: #1967D2;\n",
              "      height: 32px;\n",
              "      padding: 0 0 0 0;\n",
              "      width: 32px;\n",
              "    }\n",
              "\n",
              "    .colab-df-convert:hover {\n",
              "      background-color: #E2EBFA;\n",
              "      box-shadow: 0px 1px 2px rgba(60, 64, 67, 0.3), 0px 1px 3px 1px rgba(60, 64, 67, 0.15);\n",
              "      fill: #174EA6;\n",
              "    }\n",
              "\n",
              "    [theme=dark] .colab-df-convert {\n",
              "      background-color: #3B4455;\n",
              "      fill: #D2E3FC;\n",
              "    }\n",
              "\n",
              "    [theme=dark] .colab-df-convert:hover {\n",
              "      background-color: #434B5C;\n",
              "      box-shadow: 0px 1px 3px 1px rgba(0, 0, 0, 0.15);\n",
              "      filter: drop-shadow(0px 1px 2px rgba(0, 0, 0, 0.3));\n",
              "      fill: #FFFFFF;\n",
              "    }\n",
              "  </style>\n",
              "\n",
              "      <script>\n",
              "        const buttonEl =\n",
              "          document.querySelector('#df-ead184ed-e7c3-49b3-97a0-e5b4083389c0 button.colab-df-convert');\n",
              "        buttonEl.style.display =\n",
              "          google.colab.kernel.accessAllowed ? 'block' : 'none';\n",
              "\n",
              "        async function convertToInteractive(key) {\n",
              "          const element = document.querySelector('#df-ead184ed-e7c3-49b3-97a0-e5b4083389c0');\n",
              "          const dataTable =\n",
              "            await google.colab.kernel.invokeFunction('convertToInteractive',\n",
              "                                                     [key], {});\n",
              "          if (!dataTable) return;\n",
              "\n",
              "          const docLinkHtml = 'Like what you see? Visit the ' +\n",
              "            '<a target=\"_blank\" href=https://colab.research.google.com/notebooks/data_table.ipynb>data table notebook</a>'\n",
              "            + ' to learn more about interactive tables.';\n",
              "          element.innerHTML = '';\n",
              "          dataTable['output_type'] = 'display_data';\n",
              "          await google.colab.output.renderOutput(dataTable, element);\n",
              "          const docLink = document.createElement('div');\n",
              "          docLink.innerHTML = docLinkHtml;\n",
              "          element.appendChild(docLink);\n",
              "        }\n",
              "      </script>\n",
              "    </div>\n",
              "  </div>\n",
              "  "
            ]
          },
          "metadata": {},
          "execution_count": 60
        }
      ]
    },
    {
      "cell_type": "code",
      "source": [
        "df.info()"
      ],
      "metadata": {
        "colab": {
          "base_uri": "https://localhost:8080/"
        },
        "id": "JhzheUPGIspn",
        "outputId": "e4cf2854-4c3c-42be-ab41-f8b991f5bfe6"
      },
      "execution_count": 61,
      "outputs": [
        {
          "output_type": "stream",
          "name": "stdout",
          "text": [
            "<class 'pandas.core.frame.DataFrame'>\n",
            "RangeIndex: 10895 entries, 0 to 10894\n",
            "Data columns (total 12 columns):\n",
            " #   Column         Non-Null Count  Dtype         \n",
            "---  ------         --------------  -----         \n",
            " 0   CVE_DOC        10895 non-null  object        \n",
            " 1   CVE_CLPV       10895 non-null  int64         \n",
            " 2   STATUS         10895 non-null  object        \n",
            " 3   CVE_VEND       10847 non-null  float64       \n",
            " 4   FECHAELAB      10895 non-null  datetime64[ns]\n",
            " 5   FECHA_DOC      10895 non-null  datetime64[ns]\n",
            " 6   FECHA_ENT      10893 non-null  object        \n",
            " 7   FECHA_VEN      10895 non-null  datetime64[ns]\n",
            " 8   FECHA_CANCELA  358 non-null    datetime64[ns]\n",
            " 9   CAN_TOT        10895 non-null  float64       \n",
            " 10  DES_TOT        10895 non-null  float64       \n",
            " 11  DES_FIN        10895 non-null  int64         \n",
            "dtypes: datetime64[ns](4), float64(3), int64(2), object(3)\n",
            "memory usage: 1021.5+ KB\n"
          ]
        }
      ]
    },
    {
      "cell_type": "markdown",
      "source": [
        "CVE_CLPV      (valores: 1000 a 2000)"
      ],
      "metadata": {
        "id": "EaElALDCNVkt"
      }
    },
    {
      "cell_type": "code",
      "source": [
        "#Se filtraron los valores mayores a 1000, pero menores a 2000 de la columna CVE_CLPV\n",
        "archivo1=df[(df[\"CVE_CLPV\"] >= 1000) & (df[\"CVE_CLPV\"] <= 2000)]\n",
        "archivo1.to_csv(\"archivo1.csv\")\n",
        "files.download(\"archivo1.csv\")"
      ],
      "metadata": {
        "colab": {
          "base_uri": "https://localhost:8080/",
          "height": 17
        },
        "id": "Z9EJkDtDIVLI",
        "outputId": "3083755c-24cc-49d2-edd8-eb3cd9bb336e"
      },
      "execution_count": 62,
      "outputs": [
        {
          "output_type": "display_data",
          "data": {
            "text/plain": [
              "<IPython.core.display.Javascript object>"
            ],
            "application/javascript": [
              "\n",
              "    async function download(id, filename, size) {\n",
              "      if (!google.colab.kernel.accessAllowed) {\n",
              "        return;\n",
              "      }\n",
              "      const div = document.createElement('div');\n",
              "      const label = document.createElement('label');\n",
              "      label.textContent = `Downloading \"${filename}\": `;\n",
              "      div.appendChild(label);\n",
              "      const progress = document.createElement('progress');\n",
              "      progress.max = size;\n",
              "      div.appendChild(progress);\n",
              "      document.body.appendChild(div);\n",
              "\n",
              "      const buffers = [];\n",
              "      let downloaded = 0;\n",
              "\n",
              "      const channel = await google.colab.kernel.comms.open(id);\n",
              "      // Send a message to notify the kernel that we're ready.\n",
              "      channel.send({})\n",
              "\n",
              "      for await (const message of channel.messages) {\n",
              "        // Send a message to notify the kernel that we're ready.\n",
              "        channel.send({})\n",
              "        if (message.buffers) {\n",
              "          for (const buffer of message.buffers) {\n",
              "            buffers.push(buffer);\n",
              "            downloaded += buffer.byteLength;\n",
              "            progress.value = downloaded;\n",
              "          }\n",
              "        }\n",
              "      }\n",
              "      const blob = new Blob(buffers, {type: 'application/binary'});\n",
              "      const a = document.createElement('a');\n",
              "      a.href = window.URL.createObjectURL(blob);\n",
              "      a.download = filename;\n",
              "      div.appendChild(a);\n",
              "      a.click();\n",
              "      div.remove();\n",
              "    }\n",
              "  "
            ]
          },
          "metadata": {}
        },
        {
          "output_type": "display_data",
          "data": {
            "text/plain": [
              "<IPython.core.display.Javascript object>"
            ],
            "application/javascript": [
              "download(\"download_85980384-f8e6-45b0-bda4-4bb3fb6bdaaf\", \"archivo1.csv\", 63823)"
            ]
          },
          "metadata": {}
        }
      ]
    },
    {
      "cell_type": "markdown",
      "source": [
        "CVE_VEND     (Todas las claves excepto “5” y “4”)"
      ],
      "metadata": {
        "id": "EHREkMTANdDd"
      }
    },
    {
      "cell_type": "code",
      "source": [
        "#Se filtraron todas excepto las claves 5 y 4 de la columna con la clave del vendedor\n",
        "archivo2=df[~(df[\"CVE_VEND\"] == 5) & ~(df[\"CVE_VEND\"] == 4)]\n",
        "archivo2.to_csv(\"archivo2.csv\")\n",
        "files.download(\"archivo2.csv\")"
      ],
      "metadata": {
        "colab": {
          "base_uri": "https://localhost:8080/",
          "height": 17
        },
        "id": "iSIAnZTzLwiF",
        "outputId": "b8f77686-cc3b-4b1b-cd6a-0854d9e2b2cd"
      },
      "execution_count": 63,
      "outputs": [
        {
          "output_type": "display_data",
          "data": {
            "text/plain": [
              "<IPython.core.display.Javascript object>"
            ],
            "application/javascript": [
              "\n",
              "    async function download(id, filename, size) {\n",
              "      if (!google.colab.kernel.accessAllowed) {\n",
              "        return;\n",
              "      }\n",
              "      const div = document.createElement('div');\n",
              "      const label = document.createElement('label');\n",
              "      label.textContent = `Downloading \"${filename}\": `;\n",
              "      div.appendChild(label);\n",
              "      const progress = document.createElement('progress');\n",
              "      progress.max = size;\n",
              "      div.appendChild(progress);\n",
              "      document.body.appendChild(div);\n",
              "\n",
              "      const buffers = [];\n",
              "      let downloaded = 0;\n",
              "\n",
              "      const channel = await google.colab.kernel.comms.open(id);\n",
              "      // Send a message to notify the kernel that we're ready.\n",
              "      channel.send({})\n",
              "\n",
              "      for await (const message of channel.messages) {\n",
              "        // Send a message to notify the kernel that we're ready.\n",
              "        channel.send({})\n",
              "        if (message.buffers) {\n",
              "          for (const buffer of message.buffers) {\n",
              "            buffers.push(buffer);\n",
              "            downloaded += buffer.byteLength;\n",
              "            progress.value = downloaded;\n",
              "          }\n",
              "        }\n",
              "      }\n",
              "      const blob = new Blob(buffers, {type: 'application/binary'});\n",
              "      const a = document.createElement('a');\n",
              "      a.href = window.URL.createObjectURL(blob);\n",
              "      a.download = filename;\n",
              "      div.appendChild(a);\n",
              "      a.click();\n",
              "      div.remove();\n",
              "    }\n",
              "  "
            ]
          },
          "metadata": {}
        },
        {
          "output_type": "display_data",
          "data": {
            "text/plain": [
              "<IPython.core.display.Javascript object>"
            ],
            "application/javascript": [
              "download(\"download_5b108fd0-99fe-4c58-9c40-64e43e606a96\", \"archivo2.csv\", 1094340)"
            ]
          },
          "metadata": {}
        }
      ]
    },
    {
      "cell_type": "markdown",
      "source": [
        "FECHA_ENT   (Fechas de “28/02/2022”)"
      ],
      "metadata": {
        "id": "bJEN-OGNNgbo"
      }
    },
    {
      "cell_type": "code",
      "source": [
        "df['FECHA_ENT'] = df['FECHA_ENT'].astype(str)"
      ],
      "metadata": {
        "id": "5wLAL1OJM-21"
      },
      "execution_count": 64,
      "outputs": []
    },
    {
      "cell_type": "code",
      "source": [
        "#Se filtraron las facturas con fecha de entrada del 28/02/2022\n",
        "archivo3=df[(df[\"FECHA_ENT\"] == \"2022-02-28 00:00:00\")]\n",
        "archivo3.to_csv(\"archivo3.csv\")\n",
        "files.download(\"archivo3.csv\")"
      ],
      "metadata": {
        "colab": {
          "base_uri": "https://localhost:8080/",
          "height": 17
        },
        "id": "_54gi3dmMSf_",
        "outputId": "58a9eae5-e6c7-47ff-c205-22a65becead6"
      },
      "execution_count": 65,
      "outputs": [
        {
          "output_type": "display_data",
          "data": {
            "text/plain": [
              "<IPython.core.display.Javascript object>"
            ],
            "application/javascript": [
              "\n",
              "    async function download(id, filename, size) {\n",
              "      if (!google.colab.kernel.accessAllowed) {\n",
              "        return;\n",
              "      }\n",
              "      const div = document.createElement('div');\n",
              "      const label = document.createElement('label');\n",
              "      label.textContent = `Downloading \"${filename}\": `;\n",
              "      div.appendChild(label);\n",
              "      const progress = document.createElement('progress');\n",
              "      progress.max = size;\n",
              "      div.appendChild(progress);\n",
              "      document.body.appendChild(div);\n",
              "\n",
              "      const buffers = [];\n",
              "      let downloaded = 0;\n",
              "\n",
              "      const channel = await google.colab.kernel.comms.open(id);\n",
              "      // Send a message to notify the kernel that we're ready.\n",
              "      channel.send({})\n",
              "\n",
              "      for await (const message of channel.messages) {\n",
              "        // Send a message to notify the kernel that we're ready.\n",
              "        channel.send({})\n",
              "        if (message.buffers) {\n",
              "          for (const buffer of message.buffers) {\n",
              "            buffers.push(buffer);\n",
              "            downloaded += buffer.byteLength;\n",
              "            progress.value = downloaded;\n",
              "          }\n",
              "        }\n",
              "      }\n",
              "      const blob = new Blob(buffers, {type: 'application/binary'});\n",
              "      const a = document.createElement('a');\n",
              "      a.href = window.URL.createObjectURL(blob);\n",
              "      a.download = filename;\n",
              "      div.appendChild(a);\n",
              "      a.click();\n",
              "      div.remove();\n",
              "    }\n",
              "  "
            ]
          },
          "metadata": {}
        },
        {
          "output_type": "display_data",
          "data": {
            "text/plain": [
              "<IPython.core.display.Javascript object>"
            ],
            "application/javascript": [
              "download(\"download_8b300ed8-3ab1-4357-80c0-482049b7c2a3\", \"archivo3.csv\", 1943)"
            ]
          },
          "metadata": {}
        }
      ]
    },
    {
      "cell_type": "markdown",
      "source": [
        "CAN_TOT       (Cantidades menores a 5951.7)   o  STATUS (“E”)"
      ],
      "metadata": {
        "id": "FnvWm2hrNmRo"
      }
    },
    {
      "cell_type": "code",
      "source": [
        "#Se filtraron las facturas que tuvieran o una cantidad menor a 5,951.70 o que su estatus fuera E\n",
        "archivo4=df[(df[\"CAN_TOT\"] < 5951.7) | (df[\"STATUS\"] == \"E\")]\n",
        "archivo4.to_csv(\"archivo4.csv\")\n",
        "files.download(\"archivo4.csv\")"
      ],
      "metadata": {
        "colab": {
          "base_uri": "https://localhost:8080/",
          "height": 17
        },
        "id": "BsJfOe2wN1RF",
        "outputId": "1cb41c21-efc0-4ef8-f3fa-4403c222e0fa"
      },
      "execution_count": 66,
      "outputs": [
        {
          "output_type": "display_data",
          "data": {
            "text/plain": [
              "<IPython.core.display.Javascript object>"
            ],
            "application/javascript": [
              "\n",
              "    async function download(id, filename, size) {\n",
              "      if (!google.colab.kernel.accessAllowed) {\n",
              "        return;\n",
              "      }\n",
              "      const div = document.createElement('div');\n",
              "      const label = document.createElement('label');\n",
              "      label.textContent = `Downloading \"${filename}\": `;\n",
              "      div.appendChild(label);\n",
              "      const progress = document.createElement('progress');\n",
              "      progress.max = size;\n",
              "      div.appendChild(progress);\n",
              "      document.body.appendChild(div);\n",
              "\n",
              "      const buffers = [];\n",
              "      let downloaded = 0;\n",
              "\n",
              "      const channel = await google.colab.kernel.comms.open(id);\n",
              "      // Send a message to notify the kernel that we're ready.\n",
              "      channel.send({})\n",
              "\n",
              "      for await (const message of channel.messages) {\n",
              "        // Send a message to notify the kernel that we're ready.\n",
              "        channel.send({})\n",
              "        if (message.buffers) {\n",
              "          for (const buffer of message.buffers) {\n",
              "            buffers.push(buffer);\n",
              "            downloaded += buffer.byteLength;\n",
              "            progress.value = downloaded;\n",
              "          }\n",
              "        }\n",
              "      }\n",
              "      const blob = new Blob(buffers, {type: 'application/binary'});\n",
              "      const a = document.createElement('a');\n",
              "      a.href = window.URL.createObjectURL(blob);\n",
              "      a.download = filename;\n",
              "      div.appendChild(a);\n",
              "      a.click();\n",
              "      div.remove();\n",
              "    }\n",
              "  "
            ]
          },
          "metadata": {}
        },
        {
          "output_type": "display_data",
          "data": {
            "text/plain": [
              "<IPython.core.display.Javascript object>"
            ],
            "application/javascript": [
              "download(\"download_42124129-02e5-4b2d-9f16-376dfbb5b2ff\", \"archivo4.csv\", 1172659)"
            ]
          },
          "metadata": {}
        }
      ]
    },
    {
      "cell_type": "markdown",
      "source": [
        "Solo las columnas: CVE_DOC, FECHA_ENT, FECHA_VEN y CAN_TOT"
      ],
      "metadata": {
        "id": "4t0Hk0qDNp3E"
      }
    },
    {
      "cell_type": "code",
      "source": [
        "#Se filtraron las columnas con la clave del documento, fecha de entrada, fecha de vencimiento y cantidad total\n",
        "archivo5=df.iloc[ : , [0,6,7,9]] \n",
        "archivo5.to_csv(\"archivo5.csv\")\n",
        "files.download(\"archivo5.csv\")"
      ],
      "metadata": {
        "colab": {
          "base_uri": "https://localhost:8080/",
          "height": 17
        },
        "id": "KS-o4SvAOclc",
        "outputId": "827372a3-c40c-4795-bc70-4f27a82788d5"
      },
      "execution_count": 67,
      "outputs": [
        {
          "output_type": "display_data",
          "data": {
            "text/plain": [
              "<IPython.core.display.Javascript object>"
            ],
            "application/javascript": [
              "\n",
              "    async function download(id, filename, size) {\n",
              "      if (!google.colab.kernel.accessAllowed) {\n",
              "        return;\n",
              "      }\n",
              "      const div = document.createElement('div');\n",
              "      const label = document.createElement('label');\n",
              "      label.textContent = `Downloading \"${filename}\": `;\n",
              "      div.appendChild(label);\n",
              "      const progress = document.createElement('progress');\n",
              "      progress.max = size;\n",
              "      div.appendChild(progress);\n",
              "      document.body.appendChild(div);\n",
              "\n",
              "      const buffers = [];\n",
              "      let downloaded = 0;\n",
              "\n",
              "      const channel = await google.colab.kernel.comms.open(id);\n",
              "      // Send a message to notify the kernel that we're ready.\n",
              "      channel.send({})\n",
              "\n",
              "      for await (const message of channel.messages) {\n",
              "        // Send a message to notify the kernel that we're ready.\n",
              "        channel.send({})\n",
              "        if (message.buffers) {\n",
              "          for (const buffer of message.buffers) {\n",
              "            buffers.push(buffer);\n",
              "            downloaded += buffer.byteLength;\n",
              "            progress.value = downloaded;\n",
              "          }\n",
              "        }\n",
              "      }\n",
              "      const blob = new Blob(buffers, {type: 'application/binary'});\n",
              "      const a = document.createElement('a');\n",
              "      a.href = window.URL.createObjectURL(blob);\n",
              "      a.download = filename;\n",
              "      div.appendChild(a);\n",
              "      a.click();\n",
              "      div.remove();\n",
              "    }\n",
              "  "
            ]
          },
          "metadata": {}
        },
        {
          "output_type": "display_data",
          "data": {
            "text/plain": [
              "<IPython.core.display.Javascript object>"
            ],
            "application/javascript": [
              "download(\"download_cd6e6ca5-dbe3-482a-96f1-fe6a6cc01e4b\", \"archivo5.csv\", 600603)"
            ]
          },
          "metadata": {}
        }
      ]
    },
    {
      "cell_type": "markdown",
      "source": [
        "Solo las filas de 7001-7099"
      ],
      "metadata": {
        "id": "8TLlsTFbNs3Q"
      }
    },
    {
      "cell_type": "code",
      "source": [
        "#Se filtraron únicamente las filas de la 7001 a la 7099. \n",
        "archivo6=df.iloc[7001 :7100 , :] \n",
        "archivo6.to_csv(\"archivo6.csv\")\n",
        "files.download(\"archivo6.csv\")"
      ],
      "metadata": {
        "colab": {
          "base_uri": "https://localhost:8080/",
          "height": 17
        },
        "id": "zcxnAN4CO_bl",
        "outputId": "12f26dce-4d5e-4ee4-f62a-515c7c7e8861"
      },
      "execution_count": 68,
      "outputs": [
        {
          "output_type": "display_data",
          "data": {
            "text/plain": [
              "<IPython.core.display.Javascript object>"
            ],
            "application/javascript": [
              "\n",
              "    async function download(id, filename, size) {\n",
              "      if (!google.colab.kernel.accessAllowed) {\n",
              "        return;\n",
              "      }\n",
              "      const div = document.createElement('div');\n",
              "      const label = document.createElement('label');\n",
              "      label.textContent = `Downloading \"${filename}\": `;\n",
              "      div.appendChild(label);\n",
              "      const progress = document.createElement('progress');\n",
              "      progress.max = size;\n",
              "      div.appendChild(progress);\n",
              "      document.body.appendChild(div);\n",
              "\n",
              "      const buffers = [];\n",
              "      let downloaded = 0;\n",
              "\n",
              "      const channel = await google.colab.kernel.comms.open(id);\n",
              "      // Send a message to notify the kernel that we're ready.\n",
              "      channel.send({})\n",
              "\n",
              "      for await (const message of channel.messages) {\n",
              "        // Send a message to notify the kernel that we're ready.\n",
              "        channel.send({})\n",
              "        if (message.buffers) {\n",
              "          for (const buffer of message.buffers) {\n",
              "            buffers.push(buffer);\n",
              "            downloaded += buffer.byteLength;\n",
              "            progress.value = downloaded;\n",
              "          }\n",
              "        }\n",
              "      }\n",
              "      const blob = new Blob(buffers, {type: 'application/binary'});\n",
              "      const a = document.createElement('a');\n",
              "      a.href = window.URL.createObjectURL(blob);\n",
              "      a.download = filename;\n",
              "      div.appendChild(a);\n",
              "      a.click();\n",
              "      div.remove();\n",
              "    }\n",
              "  "
            ]
          },
          "metadata": {}
        },
        {
          "output_type": "display_data",
          "data": {
            "text/plain": [
              "<IPython.core.display.Javascript object>"
            ],
            "application/javascript": [
              "download(\"download_76c0261a-9fc3-4581-972a-21786c4cf955\", \"archivo6.csv\", 10671)"
            ]
          },
          "metadata": {}
        }
      ]
    },
    {
      "cell_type": "markdown",
      "source": [
        "Index= CVE_VEND (valores: 1, 2)  (columna: FECHAELAB)"
      ],
      "metadata": {
        "id": "CClA6_Q_Nutw"
      }
    },
    {
      "cell_type": "code",
      "source": [
        "#Se asignó la clave del vendedor como índice. \n",
        "df1= pd.read_excel(\"Datos de Facturación.xlsx\", index_col=3)\n",
        "df1.head()"
      ],
      "metadata": {
        "colab": {
          "base_uri": "https://localhost:8080/",
          "height": 388
        },
        "id": "W3wr-ZBqPOyd",
        "outputId": "88dcd8cb-4693-4f10-e225-91790fdee97e"
      },
      "execution_count": 69,
      "outputs": [
        {
          "output_type": "execute_result",
          "data": {
            "text/plain": [
              "         CVE_DOC  CVE_CLPV STATUS           FECHAELAB  FECHA_DOC  \\\n",
              "CVE_VEND                                                           \n",
              "1.0       F29414      2465      C 2019-09-03 08:58:42 2019-09-03   \n",
              "1.0       F29415      3926      C 2019-09-03 09:55:14 2019-09-03   \n",
              "1.0       F29416      3926      C 2019-09-03 13:25:33 2019-09-03   \n",
              "1.0       F29417      3926      C 2019-09-03 13:33:23 2019-09-03   \n",
              "2.0       F29418      6813      C 2019-09-03 14:23:45 2019-09-03   \n",
              "\n",
              "                    FECHA_ENT  FECHA_VEN FECHA_CANCELA  CAN_TOT  DES_TOT  \\\n",
              "CVE_VEND                                                                   \n",
              "1.0       2019-09-03 00:00:00 2019-09-18    2019-09-04  3980.00      0.0   \n",
              "1.0       2019-09-03 00:00:00 2019-10-03    2019-09-03  1550.00      0.0   \n",
              "1.0       2019-09-03 00:00:00 2019-10-03    2019-09-03  1550.00      0.0   \n",
              "1.0       2019-09-03 00:00:00 2019-10-03    2019-09-17  1550.00      0.0   \n",
              "2.0       2019-09-03 00:00:00 2019-09-03    2019-09-10  2435.44      0.0   \n",
              "\n",
              "          DES_FIN  \n",
              "CVE_VEND           \n",
              "1.0             0  \n",
              "1.0             0  \n",
              "1.0             0  \n",
              "1.0             0  \n",
              "2.0             0  "
            ],
            "text/html": [
              "\n",
              "  <div id=\"df-cf845474-95f5-44b8-98fa-9109544d462e\">\n",
              "    <div class=\"colab-df-container\">\n",
              "      <div>\n",
              "<style scoped>\n",
              "    .dataframe tbody tr th:only-of-type {\n",
              "        vertical-align: middle;\n",
              "    }\n",
              "\n",
              "    .dataframe tbody tr th {\n",
              "        vertical-align: top;\n",
              "    }\n",
              "\n",
              "    .dataframe thead th {\n",
              "        text-align: right;\n",
              "    }\n",
              "</style>\n",
              "<table border=\"1\" class=\"dataframe\">\n",
              "  <thead>\n",
              "    <tr style=\"text-align: right;\">\n",
              "      <th></th>\n",
              "      <th>CVE_DOC</th>\n",
              "      <th>CVE_CLPV</th>\n",
              "      <th>STATUS</th>\n",
              "      <th>FECHAELAB</th>\n",
              "      <th>FECHA_DOC</th>\n",
              "      <th>FECHA_ENT</th>\n",
              "      <th>FECHA_VEN</th>\n",
              "      <th>FECHA_CANCELA</th>\n",
              "      <th>CAN_TOT</th>\n",
              "      <th>DES_TOT</th>\n",
              "      <th>DES_FIN</th>\n",
              "    </tr>\n",
              "    <tr>\n",
              "      <th>CVE_VEND</th>\n",
              "      <th></th>\n",
              "      <th></th>\n",
              "      <th></th>\n",
              "      <th></th>\n",
              "      <th></th>\n",
              "      <th></th>\n",
              "      <th></th>\n",
              "      <th></th>\n",
              "      <th></th>\n",
              "      <th></th>\n",
              "      <th></th>\n",
              "    </tr>\n",
              "  </thead>\n",
              "  <tbody>\n",
              "    <tr>\n",
              "      <th>1.0</th>\n",
              "      <td>F29414</td>\n",
              "      <td>2465</td>\n",
              "      <td>C</td>\n",
              "      <td>2019-09-03 08:58:42</td>\n",
              "      <td>2019-09-03</td>\n",
              "      <td>2019-09-03 00:00:00</td>\n",
              "      <td>2019-09-18</td>\n",
              "      <td>2019-09-04</td>\n",
              "      <td>3980.00</td>\n",
              "      <td>0.0</td>\n",
              "      <td>0</td>\n",
              "    </tr>\n",
              "    <tr>\n",
              "      <th>1.0</th>\n",
              "      <td>F29415</td>\n",
              "      <td>3926</td>\n",
              "      <td>C</td>\n",
              "      <td>2019-09-03 09:55:14</td>\n",
              "      <td>2019-09-03</td>\n",
              "      <td>2019-09-03 00:00:00</td>\n",
              "      <td>2019-10-03</td>\n",
              "      <td>2019-09-03</td>\n",
              "      <td>1550.00</td>\n",
              "      <td>0.0</td>\n",
              "      <td>0</td>\n",
              "    </tr>\n",
              "    <tr>\n",
              "      <th>1.0</th>\n",
              "      <td>F29416</td>\n",
              "      <td>3926</td>\n",
              "      <td>C</td>\n",
              "      <td>2019-09-03 13:25:33</td>\n",
              "      <td>2019-09-03</td>\n",
              "      <td>2019-09-03 00:00:00</td>\n",
              "      <td>2019-10-03</td>\n",
              "      <td>2019-09-03</td>\n",
              "      <td>1550.00</td>\n",
              "      <td>0.0</td>\n",
              "      <td>0</td>\n",
              "    </tr>\n",
              "    <tr>\n",
              "      <th>1.0</th>\n",
              "      <td>F29417</td>\n",
              "      <td>3926</td>\n",
              "      <td>C</td>\n",
              "      <td>2019-09-03 13:33:23</td>\n",
              "      <td>2019-09-03</td>\n",
              "      <td>2019-09-03 00:00:00</td>\n",
              "      <td>2019-10-03</td>\n",
              "      <td>2019-09-17</td>\n",
              "      <td>1550.00</td>\n",
              "      <td>0.0</td>\n",
              "      <td>0</td>\n",
              "    </tr>\n",
              "    <tr>\n",
              "      <th>2.0</th>\n",
              "      <td>F29418</td>\n",
              "      <td>6813</td>\n",
              "      <td>C</td>\n",
              "      <td>2019-09-03 14:23:45</td>\n",
              "      <td>2019-09-03</td>\n",
              "      <td>2019-09-03 00:00:00</td>\n",
              "      <td>2019-09-03</td>\n",
              "      <td>2019-09-10</td>\n",
              "      <td>2435.44</td>\n",
              "      <td>0.0</td>\n",
              "      <td>0</td>\n",
              "    </tr>\n",
              "  </tbody>\n",
              "</table>\n",
              "</div>\n",
              "      <button class=\"colab-df-convert\" onclick=\"convertToInteractive('df-cf845474-95f5-44b8-98fa-9109544d462e')\"\n",
              "              title=\"Convert this dataframe to an interactive table.\"\n",
              "              style=\"display:none;\">\n",
              "        \n",
              "  <svg xmlns=\"http://www.w3.org/2000/svg\" height=\"24px\"viewBox=\"0 0 24 24\"\n",
              "       width=\"24px\">\n",
              "    <path d=\"M0 0h24v24H0V0z\" fill=\"none\"/>\n",
              "    <path d=\"M18.56 5.44l.94 2.06.94-2.06 2.06-.94-2.06-.94-.94-2.06-.94 2.06-2.06.94zm-11 1L8.5 8.5l.94-2.06 2.06-.94-2.06-.94L8.5 2.5l-.94 2.06-2.06.94zm10 10l.94 2.06.94-2.06 2.06-.94-2.06-.94-.94-2.06-.94 2.06-2.06.94z\"/><path d=\"M17.41 7.96l-1.37-1.37c-.4-.4-.92-.59-1.43-.59-.52 0-1.04.2-1.43.59L10.3 9.45l-7.72 7.72c-.78.78-.78 2.05 0 2.83L4 21.41c.39.39.9.59 1.41.59.51 0 1.02-.2 1.41-.59l7.78-7.78 2.81-2.81c.8-.78.8-2.07 0-2.86zM5.41 20L4 18.59l7.72-7.72 1.47 1.35L5.41 20z\"/>\n",
              "  </svg>\n",
              "      </button>\n",
              "      \n",
              "  <style>\n",
              "    .colab-df-container {\n",
              "      display:flex;\n",
              "      flex-wrap:wrap;\n",
              "      gap: 12px;\n",
              "    }\n",
              "\n",
              "    .colab-df-convert {\n",
              "      background-color: #E8F0FE;\n",
              "      border: none;\n",
              "      border-radius: 50%;\n",
              "      cursor: pointer;\n",
              "      display: none;\n",
              "      fill: #1967D2;\n",
              "      height: 32px;\n",
              "      padding: 0 0 0 0;\n",
              "      width: 32px;\n",
              "    }\n",
              "\n",
              "    .colab-df-convert:hover {\n",
              "      background-color: #E2EBFA;\n",
              "      box-shadow: 0px 1px 2px rgba(60, 64, 67, 0.3), 0px 1px 3px 1px rgba(60, 64, 67, 0.15);\n",
              "      fill: #174EA6;\n",
              "    }\n",
              "\n",
              "    [theme=dark] .colab-df-convert {\n",
              "      background-color: #3B4455;\n",
              "      fill: #D2E3FC;\n",
              "    }\n",
              "\n",
              "    [theme=dark] .colab-df-convert:hover {\n",
              "      background-color: #434B5C;\n",
              "      box-shadow: 0px 1px 3px 1px rgba(0, 0, 0, 0.15);\n",
              "      filter: drop-shadow(0px 1px 2px rgba(0, 0, 0, 0.3));\n",
              "      fill: #FFFFFF;\n",
              "    }\n",
              "  </style>\n",
              "\n",
              "      <script>\n",
              "        const buttonEl =\n",
              "          document.querySelector('#df-cf845474-95f5-44b8-98fa-9109544d462e button.colab-df-convert');\n",
              "        buttonEl.style.display =\n",
              "          google.colab.kernel.accessAllowed ? 'block' : 'none';\n",
              "\n",
              "        async function convertToInteractive(key) {\n",
              "          const element = document.querySelector('#df-cf845474-95f5-44b8-98fa-9109544d462e');\n",
              "          const dataTable =\n",
              "            await google.colab.kernel.invokeFunction('convertToInteractive',\n",
              "                                                     [key], {});\n",
              "          if (!dataTable) return;\n",
              "\n",
              "          const docLinkHtml = 'Like what you see? Visit the ' +\n",
              "            '<a target=\"_blank\" href=https://colab.research.google.com/notebooks/data_table.ipynb>data table notebook</a>'\n",
              "            + ' to learn more about interactive tables.';\n",
              "          element.innerHTML = '';\n",
              "          dataTable['output_type'] = 'display_data';\n",
              "          await google.colab.output.renderOutput(dataTable, element);\n",
              "          const docLink = document.createElement('div');\n",
              "          docLink.innerHTML = docLinkHtml;\n",
              "          element.appendChild(docLink);\n",
              "        }\n",
              "      </script>\n",
              "    </div>\n",
              "  </div>\n",
              "  "
            ]
          },
          "metadata": {},
          "execution_count": 69
        }
      ]
    },
    {
      "cell_type": "code",
      "source": [
        "#Se filtró aquellos donde la clave del vendedor sea 1 y 2 y solamente se mostró la columna de fecha de elaboración\n",
        "archivo7=df1.loc[[1, 2], ['FECHAELAB']]\n",
        "archivo7.to_csv(\"archivo7.csv\")\n",
        "files.download(\"archivo7.csv\")"
      ],
      "metadata": {
        "colab": {
          "base_uri": "https://localhost:8080/",
          "height": 17
        },
        "id": "raDpRmgyPaUD",
        "outputId": "c3ac0b33-0546-4459-cf41-fffbe98b5114"
      },
      "execution_count": 70,
      "outputs": [
        {
          "output_type": "display_data",
          "data": {
            "text/plain": [
              "<IPython.core.display.Javascript object>"
            ],
            "application/javascript": [
              "\n",
              "    async function download(id, filename, size) {\n",
              "      if (!google.colab.kernel.accessAllowed) {\n",
              "        return;\n",
              "      }\n",
              "      const div = document.createElement('div');\n",
              "      const label = document.createElement('label');\n",
              "      label.textContent = `Downloading \"${filename}\": `;\n",
              "      div.appendChild(label);\n",
              "      const progress = document.createElement('progress');\n",
              "      progress.max = size;\n",
              "      div.appendChild(progress);\n",
              "      document.body.appendChild(div);\n",
              "\n",
              "      const buffers = [];\n",
              "      let downloaded = 0;\n",
              "\n",
              "      const channel = await google.colab.kernel.comms.open(id);\n",
              "      // Send a message to notify the kernel that we're ready.\n",
              "      channel.send({})\n",
              "\n",
              "      for await (const message of channel.messages) {\n",
              "        // Send a message to notify the kernel that we're ready.\n",
              "        channel.send({})\n",
              "        if (message.buffers) {\n",
              "          for (const buffer of message.buffers) {\n",
              "            buffers.push(buffer);\n",
              "            downloaded += buffer.byteLength;\n",
              "            progress.value = downloaded;\n",
              "          }\n",
              "        }\n",
              "      }\n",
              "      const blob = new Blob(buffers, {type: 'application/binary'});\n",
              "      const a = document.createElement('a');\n",
              "      a.href = window.URL.createObjectURL(blob);\n",
              "      a.download = filename;\n",
              "      div.appendChild(a);\n",
              "      a.click();\n",
              "      div.remove();\n",
              "    }\n",
              "  "
            ]
          },
          "metadata": {}
        },
        {
          "output_type": "display_data",
          "data": {
            "text/plain": [
              "<IPython.core.display.Javascript object>"
            ],
            "application/javascript": [
              "download(\"download_fffaf0a5-2865-4db7-b6fc-3906a94af696\", \"archivo7.csv\", 242639)"
            ]
          },
          "metadata": {}
        }
      ]
    }
  ]
}